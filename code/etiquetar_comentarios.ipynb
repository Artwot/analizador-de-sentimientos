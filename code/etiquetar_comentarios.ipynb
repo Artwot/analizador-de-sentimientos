{
 "cells": [
  {
   "cell_type": "code",
   "execution_count": 1,
   "metadata": {
    "colab": {},
    "colab_type": "code",
    "id": "qUK8_--WFE6N"
   },
   "outputs": [],
   "source": [
    "import os\n",
    "os.environ[\"JAVA_HOME\"] = \"/usr/lib/jvm/java-11-openjdk-amd64\"\n",
    "os.environ[\"SPARK_HOME\"] = \"/opt/spark-3.0.0-bin-hadoop2.7\""
   ]
  },
  {
   "cell_type": "code",
   "execution_count": 2,
   "metadata": {
    "colab": {},
    "colab_type": "code",
    "id": "w5YuwZM6FISQ",
    "scrolled": true
   },
   "outputs": [],
   "source": [
    "import findspark\n",
    "findspark.init()"
   ]
  },
  {
   "cell_type": "code",
   "execution_count": 3,
   "metadata": {
    "colab": {},
    "colab_type": "code",
    "id": "eC81itbEFKoN",
    "scrolled": true,
    "tags": []
   },
   "outputs": [],
   "source": [
    "from pyspark.sql import SparkSession\n",
    "spark=SparkSession.builder.master(\"local[*]\").getOrCreate()\n",
    "sc=spark.sparkContext"
   ]
  },
  {
   "cell_type": "code",
   "execution_count": 4,
   "metadata": {
    "colab": {},
    "colab_type": "code",
    "id": "xY7g3rlst613"
   },
   "outputs": [],
   "source": [
    "import numpy as np\n",
    "#np.set_printoptions(threshold=sys.maxsize)"
   ]
  },
  {
   "cell_type": "code",
   "execution_count": 11,
   "metadata": {
    "colab": {},
    "colab_type": "code",
    "id": "HubWOClVFa3N"
   },
   "outputs": [],
   "source": [
    "datos=(\n",
    "    sc.textFile('../Base/BD_300.csv')\n",
    "    .map(lambda s: s.split(','))\n",
    "    .map(lambda col: col[0])\n",
    "    )"
   ]
  },
  {
   "cell_type": "code",
   "execution_count": 12,
   "metadata": {
    "colab": {
     "base_uri": "https://localhost:8080/",
     "height": 34
    },
    "colab_type": "code",
    "id": "XrIvla50GHxe",
    "outputId": "4ab6c183-bc9a-4c0e-9d9b-dde83ecdd415"
   },
   "outputs": [
    {
     "output_type": "execute_result",
     "data": {
      "text/plain": [
       "301"
      ]
     },
     "metadata": {},
     "execution_count": 12
    }
   ],
   "source": [
    "datos.count()"
   ]
  },
  {
   "cell_type": "code",
   "execution_count": 13,
   "metadata": {
    "colab": {
     "base_uri": "https://localhost:8080/",
     "height": 213
    },
    "colab_type": "code",
    "id": "LF8eNqu4Gqvy",
    "outputId": "3deea1d4-d3dd-4b4b-9c55-d7755af6f1dd"
   },
   "outputs": [
    {
     "output_type": "execute_result",
     "data": {
      "text/plain": [
       "['COMENTARIO',\n",
       " 'EXCELENTE ESPACIO DE DISCUSION GRACIAS POR LA INVITACION',\n",
       " 'EL PRESIDENTE SENALA QUE ES MUY IMPORTANTE QUE EXISTAN CAMPANAS DE ORIENTACION A LOS JOVENES PARA QUE NO SE CONSUMA DROGA PARA QUE NO AUMENTE EL CONSUMO',\n",
       " 'POS CLARO',\n",
       " 'MEXICO ARDE EL GOBIERNO ES RESPONSABLE TE INVITO A LEER MI COLUMNA',\n",
       " 'EL PRIMER RECURSO DEBE SER SIEMPRE LA CONTENCION DE QUIEN ESTA ATRAVESANDO LA CURVA DE LA VIOLENCIA DESDE LO TECNICO DEPENDE EL CASO PUEDE SER GESTIONAR LA BAJA DEL CONTENIDO LESIVO DOCUMENTAR LA AGRESION TEJER REDES DE APOYO FRENTE A ATAQUES TROLLS',\n",
       " 'ARMONIA',\n",
       " 'LES QUERIA CONTAR QUE EN EL POR PRIMERA VEZ DESDE SU EXISTENCIA EL TALLER DE MUJERES CIENCIA Y TECNOLOGIA TUVO QUE DIVIDIRSE EN COMISIONES DEBIDO A LA CANTIDAD DE ASISTENTES ESTA IMAGEN ES TODO',\n",
       " 'NOS RE ENCANTO LEAN LEAN LEAN TODA LA CUENTA DE ESTA GENIAL ESPANOLA ES DIGNA DE SER SEGUIDA GRACIAS Y SALUDOS DESDE BUENOS AIRES ARGENTINA',\n",
       " 'MI PRESIDENTE ACABA DE DESTINAR MILLONES DE PESOS PARA EL BEISBOL Y DEJAR EN EL PROGRAMA DE DETECCION Y ATENCION DE CANCER DE MAMA ESTOS SON DATOS DEN LAS MAROMAS QUE QUIERAN ESTOS SON MUY DOLOROSOS VERGONZOSOS Y TRISTES TRISTES DATOS']"
      ]
     },
     "metadata": {},
     "execution_count": 13
    }
   ],
   "source": [
    "datos.take(10)"
   ]
  },
  {
   "cell_type": "code",
   "execution_count": 14,
   "metadata": {
    "colab": {
     "base_uri": "https://localhost:8080/",
     "height": 34
    },
    "colab_type": "code",
    "id": "0mkctshTG5wT",
    "outputId": "d33b0d96-7d7d-4e8b-9310-ab08860e7ef3",
    "tags": []
   },
   "outputs": [
    {
     "output_type": "stream",
     "name": "stdout",
     "text": [
      "Total de registros original:  301\n"
     ]
    }
   ],
   "source": [
    "TotalMuestras = datos.count()# Son las filas que tiene con datos\n",
    "print(\"Total de registros original: \", TotalMuestras)#imprimir en pantalla"
   ]
  },
  {
   "cell_type": "code",
   "execution_count": 15,
   "metadata": {},
   "outputs": [],
   "source": [
    "#Para el proceso de etiquetado solo utilizaremos la columna del encabezado y borraremos el encabezado: \n",
    "rdd_datos = (\n",
    "    datos\n",
    "    .zipWithIndex()\n",
    "    .filter(lambda col: col[1] > 0)\n",
    "    .map(lambda col: col[0])\n",
    "    )"
   ]
  },
  {
   "cell_type": "code",
   "execution_count": 16,
   "metadata": {
    "colab": {},
    "colab_type": "code",
    "id": "eBpRUD3_xFlG"
   },
   "outputs": [],
   "source": [
    "#RDD que almacena las palabras separadas de la base.\n",
    "rdd_separadas = rdd_datos.flatMap(lambda s:s.split(' '))"
   ]
  },
  {
   "cell_type": "code",
   "execution_count": 17,
   "metadata": {
    "colab": {
     "base_uri": "https://localhost:8080/",
     "height": 193
    },
    "colab_type": "code",
    "id": "VtcP5QhsxSrR",
    "outputId": "f471b75a-fbef-4440-a290-ee438d812408"
   },
   "outputs": [
    {
     "output_type": "execute_result",
     "data": {
      "text/plain": [
       "['EXCELENTE',\n",
       " 'ESPACIO',\n",
       " 'DE',\n",
       " 'DISCUSION',\n",
       " 'GRACIAS',\n",
       " 'POR',\n",
       " 'LA',\n",
       " 'INVITACION',\n",
       " 'EL',\n",
       " 'PRESIDENTE']"
      ]
     },
     "metadata": {},
     "execution_count": 17
    }
   ],
   "source": [
    "rdd_separadas.take(10)"
   ]
  },
  {
   "cell_type": "code",
   "execution_count": 18,
   "metadata": {
    "colab": {},
    "colab_type": "code",
    "id": "NjZiY_uHxSK8"
   },
   "outputs": [],
   "source": [
    "#Se agrega un 1 para contar cada palabra.\n",
    "rdd_cont = rdd_separadas.map(lambda s: (s,1))"
   ]
  },
  {
   "cell_type": "code",
   "execution_count": 19,
   "metadata": {
    "colab": {
     "base_uri": "https://localhost:8080/",
     "height": 193
    },
    "colab_type": "code",
    "id": "NBzra86HxzAa",
    "outputId": "9e7786a4-b964-431e-e2f6-42e241088961"
   },
   "outputs": [
    {
     "output_type": "execute_result",
     "data": {
      "text/plain": [
       "[('EXCELENTE', 1),\n",
       " ('ESPACIO', 1),\n",
       " ('DE', 1),\n",
       " ('DISCUSION', 1),\n",
       " ('GRACIAS', 1),\n",
       " ('POR', 1),\n",
       " ('LA', 1),\n",
       " ('INVITACION', 1),\n",
       " ('EL', 1),\n",
       " ('PRESIDENTE', 1)]"
      ]
     },
     "metadata": {},
     "execution_count": 19
    }
   ],
   "source": [
    "rdd_cont.take(10)"
   ]
  },
  {
   "cell_type": "code",
   "execution_count": 20,
   "metadata": {
    "colab": {},
    "colab_type": "code",
    "id": "phlVEsVong_D"
   },
   "outputs": [],
   "source": [
    "#Se guarda un archivo con las palabras separadas. \n",
    "rdd_cont.coalesce(1).saveAsTextFile('../resultados/300_com/palabras_diferentes')"
   ]
  },
  {
   "cell_type": "code",
   "execution_count": 21,
   "metadata": {
    "colab": {
     "base_uri": "https://localhost:8080/",
     "height": 34
    },
    "colab_type": "code",
    "id": "Z5EMOWJXyB9K",
    "outputId": "0740d823-d72e-4432-af84-ada4ebbbbbdf"
   },
   "outputs": [
    {
     "output_type": "execute_result",
     "data": {
      "text/plain": [
       "6043"
      ]
     },
     "metadata": {},
     "execution_count": 21
    }
   ],
   "source": [
    "rdd_cont.count()"
   ]
  },
  {
   "cell_type": "code",
   "execution_count": 22,
   "metadata": {
    "colab": {},
    "colab_type": "code",
    "id": "it1apHJnx6Km"
   },
   "outputs": [],
   "source": [
    "#Se suma cada palabra que aparece y se agrupan.\n",
    "rdd_agrupadas = rdd_cont.reduceByKey(lambda a, b: a + b)"
   ]
  },
  {
   "cell_type": "code",
   "execution_count": 23,
   "metadata": {
    "colab": {
     "base_uri": "https://localhost:8080/",
     "height": 281
    },
    "colab_type": "code",
    "id": "ckBUo2cKx7z-",
    "outputId": "d61252c5-3a9e-40cd-afb1-0242226da81c"
   },
   "outputs": [
    {
     "output_type": "execute_result",
     "data": {
      "text/plain": [
       "[('ESPACIO', 3),\n",
       " ('DE', 352),\n",
       " ('GRACIAS', 13),\n",
       " ('POR', 84),\n",
       " ('LA', 233),\n",
       " ('INVITACION', 1),\n",
       " ('EL', 172),\n",
       " ('SENALA', 1),\n",
       " ('QUE', 170),\n",
       " ('ES', 68),\n",
       " ('MUY', 11),\n",
       " ('IMPORTANTE', 3),\n",
       " ('CAMPANAS', 1),\n",
       " ('ORIENTACION', 2),\n",
       " ('JOVENES', 2)]"
      ]
     },
     "metadata": {},
     "execution_count": 23
    }
   ],
   "source": [
    "rdd_agrupadas.take(15)"
   ]
  },
  {
   "cell_type": "code",
   "execution_count": 24,
   "metadata": {
    "colab": {
     "base_uri": "https://localhost:8080/",
     "height": 34
    },
    "colab_type": "code",
    "id": "tDn6IWJHvP9q",
    "outputId": "26f80695-3522-4587-c8f6-204338a6bb91"
   },
   "outputs": [
    {
     "output_type": "execute_result",
     "data": {
      "text/plain": [
       "2236"
      ]
     },
     "metadata": {},
     "execution_count": 24
    }
   ],
   "source": [
    "#Total de Palabras diferentes.\n",
    "rdd_agrupadas.count()"
   ]
  },
  {
   "cell_type": "code",
   "execution_count": 25,
   "metadata": {
    "colab": {},
    "colab_type": "code",
    "id": "fguIyJX4ycwF"
   },
   "outputs": [],
   "source": [
    "#Se ordenan las palabras según las veces que aparecen de mayor a menor. \n",
    "rdd_ordenadas = rdd_agrupadas.sortBy(lambda s:s[1], False)"
   ]
  },
  {
   "cell_type": "code",
   "execution_count": 26,
   "metadata": {
    "colab": {
     "base_uri": "https://localhost:8080/",
     "height": 193
    },
    "colab_type": "code",
    "id": "ypKak6G_yoxm",
    "outputId": "110ada42-ddf7-4791-8a5e-0d1d6428ad51"
   },
   "outputs": [
    {
     "output_type": "execute_result",
     "data": {
      "text/plain": [
       "[('DE', 352),\n",
       " ('LA', 233),\n",
       " ('EL', 172),\n",
       " ('QUE', 170),\n",
       " ('EN', 165),\n",
       " ('A', 151),\n",
       " ('Y', 148),\n",
       " ('NO', 96),\n",
       " ('POR', 84),\n",
       " ('PARA', 75)]"
      ]
     },
     "metadata": {},
     "execution_count": 26
    }
   ],
   "source": [
    "rdd_ordenadas.take(10)"
   ]
  },
  {
   "cell_type": "code",
   "execution_count": 27,
   "metadata": {
    "colab": {
     "base_uri": "https://localhost:8080/",
     "height": 34
    },
    "colab_type": "code",
    "id": "m-9EkVHSytvc",
    "outputId": "292f9901-2c60-4844-f2e3-e9c8cab5a417"
   },
   "outputs": [
    {
     "output_type": "execute_result",
     "data": {
      "text/plain": [
       "2236"
      ]
     },
     "metadata": {},
     "execution_count": 27
    }
   ],
   "source": [
    "#Numero total de palabras que hay en el archivo\n",
    "rdd_ordenadas.count()"
   ]
  },
  {
   "cell_type": "code",
   "execution_count": 28,
   "metadata": {
    "colab": {},
    "colab_type": "code",
    "id": "Yw25Qq3ceKah"
   },
   "outputs": [],
   "source": [
    "rdd_ordenadas.coalesce(1).saveAsTextFile('../resultados/300_com/no_palabras')"
   ]
  },
  {
   "cell_type": "code",
   "execution_count": 29,
   "metadata": {},
   "outputs": [],
   "source": [
    "s = rdd_ordenadas.map(lambda x: x[0])"
   ]
  },
  {
   "cell_type": "code",
   "execution_count": 30,
   "metadata": {
    "colab": {
     "base_uri": "https://localhost:8080/",
     "height": 34
    },
    "colab_type": "code",
    "id": "ZoGSNQSRds8-",
    "outputId": "d4ca127a-225d-4259-e754-5403ddd5446b"
   },
   "outputs": [
    {
     "output_type": "execute_result",
     "data": {
      "text/plain": [
       "['DE', 'LA', 'EL', 'QUE', 'EN']"
      ]
     },
     "metadata": {},
     "execution_count": 30
    }
   ],
   "source": [
    "#Éste es el RDD que contiene solamente las palabras, ya órdenadas por cantidad de repetición.\n",
    "s.take(5)"
   ]
  },
  {
   "cell_type": "code",
   "execution_count": 31,
   "metadata": {
    "colab": {},
    "colab_type": "code",
    "id": "m5sZVUIobdhw"
   },
   "outputs": [],
   "source": [
    "#Éste nuevo RDD sólo agrega el índice de las palabras pero, dicho índice, comienza en 0.\n",
    "rdd_indice = s.zipWithIndex()"
   ]
  },
  {
   "cell_type": "code",
   "execution_count": 33,
   "metadata": {
    "colab": {},
    "colab_type": "code",
    "id": "hnTAQAQPqO0b"
   },
   "outputs": [],
   "source": [
    "#Nuevo RDD con la palabra y el índice comenzando en 1.\n",
    "rdd_palabras = rdd_indice.map(lambda x: (x[0], x[1] + 1))"
   ]
  },
  {
   "cell_type": "code",
   "execution_count": 34,
   "metadata": {
    "colab": {
     "base_uri": "https://localhost:8080/",
     "height": 193
    },
    "colab_type": "code",
    "id": "MXY21WIxsGWT",
    "outputId": "f41b762b-7e2e-4cdf-a989-f975cf7217be"
   },
   "outputs": [
    {
     "output_type": "execute_result",
     "data": {
      "text/plain": [
       "[('DE', 1),\n",
       " ('LA', 2),\n",
       " ('EL', 3),\n",
       " ('QUE', 4),\n",
       " ('EN', 5),\n",
       " ('A', 6),\n",
       " ('Y', 7),\n",
       " ('NO', 8),\n",
       " ('POR', 9),\n",
       " ('PARA', 10)]"
      ]
     },
     "metadata": {},
     "execution_count": 34
    }
   ],
   "source": [
    "rdd_palabras.take(10)"
   ]
  },
  {
   "cell_type": "code",
   "execution_count": 35,
   "metadata": {
    "colab": {},
    "colab_type": "code",
    "id": "CfVkyudxiP7D"
   },
   "outputs": [],
   "source": [
    "rdd_palabras.coalesce(1).saveAsTextFile('../resultados/300_com/indice_300')"
   ]
  }
 ],
 "metadata": {
  "accelerator": "GPU",
  "colab": {
   "collapsed_sections": [],
   "name": "Comentarios índice.ipynb",
   "provenance": [],
   "toc_visible": true
  },
  "kernelspec": {
   "display_name": "Python 3.8.3 64-bit ('base': conda)",
   "language": "python",
   "name": "python38364bitbaseconda5908377d4a7e4c4ea816df0f02492ade"
  },
  "language_info": {
   "codemirror_mode": {
    "name": "ipython",
    "version": 3
   },
   "file_extension": ".py",
   "mimetype": "text/x-python",
   "name": "python",
   "nbconvert_exporter": "python",
   "pygments_lexer": "ipython3",
   "version": "3.8.3-final"
  }
 },
 "nbformat": 4,
 "nbformat_minor": 1
}