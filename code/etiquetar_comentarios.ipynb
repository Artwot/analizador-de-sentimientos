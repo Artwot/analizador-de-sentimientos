{
 "cells": [
  {
   "cell_type": "code",
   "execution_count": 1,
   "metadata": {
    "colab": {},
    "colab_type": "code",
    "id": "qUK8_--WFE6N"
   },
   "outputs": [],
   "source": [
    "import os\n",
    "os.environ[\"JAVA_HOME\"] = \"/usr/lib/jvm/java-11-openjdk-amd64\"\n",
    "os.environ[\"SPARK_HOME\"] = \"/opt/spark-3.0.0-bin-hadoop2.7\""
   ]
  },
  {
   "cell_type": "code",
   "execution_count": 2,
   "metadata": {
    "colab": {},
    "colab_type": "code",
    "id": "w5YuwZM6FISQ",
    "scrolled": true
   },
   "outputs": [],
   "source": [
    "import findspark\n",
    "findspark.init()"
   ]
  },
  {
   "cell_type": "code",
   "execution_count": 3,
   "metadata": {
    "colab": {},
    "colab_type": "code",
    "id": "eC81itbEFKoN",
    "scrolled": true,
    "tags": []
   },
   "outputs": [],
   "source": [
    "from pyspark.sql import SparkSession\n",
    "spark=SparkSession.builder.master(\"local[*]\").getOrCreate()\n",
    "sc=spark.sparkContext"
   ]
  },
  {
   "cell_type": "code",
   "execution_count": 4,
   "metadata": {
    "colab": {},
    "colab_type": "code",
    "id": "xY7g3rlst613"
   },
   "outputs": [],
   "source": [
    "import numpy as np\n",
    "#np.set_printoptions(threshold=sys.maxsize)"
   ]
  },
  {
   "cell_type": "code",
   "execution_count": 98,
   "metadata": {
    "colab": {},
    "colab_type": "code",
    "id": "HubWOClVFa3N"
   },
   "outputs": [],
   "source": [
    "datos=(\n",
    "    sc.textFile('../Base/BD_100.csv')\n",
    "    .map(lambda s: s.split(','))\n",
    "    .map(lambda col: col[0])\n",
    "    )"
   ]
  },
  {
   "cell_type": "code",
   "execution_count": 99,
   "metadata": {
    "colab": {
     "base_uri": "https://localhost:8080/",
     "height": 34
    },
    "colab_type": "code",
    "id": "XrIvla50GHxe",
    "outputId": "4ab6c183-bc9a-4c0e-9d9b-dde83ecdd415"
   },
   "outputs": [
    {
     "output_type": "execute_result",
     "data": {
      "text/plain": [
       "100"
      ]
     },
     "metadata": {},
     "execution_count": 99
    }
   ],
   "source": [
    "datos.count()"
   ]
  },
  {
   "cell_type": "code",
   "execution_count": 100,
   "metadata": {
    "colab": {
     "base_uri": "https://localhost:8080/",
     "height": 213
    },
    "colab_type": "code",
    "id": "LF8eNqu4Gqvy",
    "outputId": "3deea1d4-d3dd-4b4b-9c55-d7755af6f1dd"
   },
   "outputs": [
    {
     "output_type": "execute_result",
     "data": {
      "text/plain": [
       "['COMENTARIO',\n",
       " 'MEXICANOS NO DEJARAN BEBER REFRESCOS PESE AUMENTO HABRA PROXIMO ANO PERO SI ESTAN CAMBIANDO SUS GUSTOS OPCIONES LIGHT SEGUN ESTUDIO DE',\n",
       " 'SEMAFORO ALERTA ENCUENTRA EN',\n",
       " 'RUTH RODRIGUEZ ESCRIBE CISMA SALUD LLAMADO MOHAR',\n",
       " 'MARTIN ESPINOSA ESCRIBE FUERZA ESTADOS',\n",
       " 'REPORTAN DESAPARICION MAESTRO UAM IZTAPALAPA AYUDANOS COMPARTIR',\n",
       " 'TERMINA TU DIA BIEN INFORMADO POR',\n",
       " 'YOUTUBER ENCONTRO NUEVAMENTE AMOR I',\n",
       " 'A DIEZ MESES INICIO GOBIERNO PRESIDENTE AFIRMO VAMOS BIEN',\n",
       " 'CUATRO MUJERES INDIGENAS CHIAPAS GRADUARON INGENIERAS INDIA NINGUNA ELLAS HABIA SALIDO COMUNIDAD HABLAN POCO ESPANOL CONOCIMIENTOS ADQUIRIERON PODRAN AYUDAR HABITANTES SUS LUGARES ORIGEN']"
      ]
     },
     "metadata": {},
     "execution_count": 100
    }
   ],
   "source": [
    "datos.take(10)"
   ]
  },
  {
   "cell_type": "code",
   "execution_count": 101,
   "metadata": {
    "colab": {
     "base_uri": "https://localhost:8080/",
     "height": 34
    },
    "colab_type": "code",
    "id": "0mkctshTG5wT",
    "outputId": "d33b0d96-7d7d-4e8b-9310-ab08860e7ef3",
    "tags": []
   },
   "outputs": [
    {
     "output_type": "stream",
     "name": "stdout",
     "text": [
      "Total de registros original:  100\n"
     ]
    }
   ],
   "source": [
    "TotalMuestras = datos.count()# Son las filas que tiene con datos\n",
    "print(\"Total de registros original: \", TotalMuestras)#imprimir en pantalla"
   ]
  },
  {
   "cell_type": "code",
   "execution_count": 102,
   "metadata": {},
   "outputs": [],
   "source": [
    "#Para el proceso de etiquetado solo utilizaremos la columna del encabezado y borraremos el encabezado: \n",
    "rdd_datos = (\n",
    "    datos\n",
    "    .zipWithIndex()\n",
    "    .filter(lambda col: col[1] > 0)\n",
    "    .map(lambda col: col[0])\n",
    "    )"
   ]
  },
  {
   "cell_type": "code",
   "execution_count": 103,
   "metadata": {
    "colab": {},
    "colab_type": "code",
    "id": "eBpRUD3_xFlG"
   },
   "outputs": [],
   "source": [
    "#RDD que almacena las palabras separadas de la base.\n",
    "rdd_separadas = rdd_datos.flatMap(lambda s:s.split(' '))"
   ]
  },
  {
   "cell_type": "code",
   "execution_count": 104,
   "metadata": {
    "colab": {
     "base_uri": "https://localhost:8080/",
     "height": 193
    },
    "colab_type": "code",
    "id": "VtcP5QhsxSrR",
    "outputId": "f471b75a-fbef-4440-a290-ee438d812408"
   },
   "outputs": [
    {
     "output_type": "execute_result",
     "data": {
      "text/plain": [
       "['MEXICANOS',\n",
       " 'NO',\n",
       " 'DEJARAN',\n",
       " 'BEBER',\n",
       " 'REFRESCOS',\n",
       " 'PESE',\n",
       " 'AUMENTO',\n",
       " 'HABRA',\n",
       " 'PROXIMO',\n",
       " 'ANO']"
      ]
     },
     "metadata": {},
     "execution_count": 104
    }
   ],
   "source": [
    "rdd_separadas.take(10)"
   ]
  },
  {
   "cell_type": "code",
   "execution_count": 105,
   "metadata": {
    "colab": {},
    "colab_type": "code",
    "id": "NjZiY_uHxSK8"
   },
   "outputs": [],
   "source": [
    "#Se agrega un 1 para contar cada palabra.\n",
    "rdd_cont = rdd_separadas.map(lambda s: (s,1))"
   ]
  },
  {
   "cell_type": "code",
   "execution_count": 106,
   "metadata": {
    "colab": {
     "base_uri": "https://localhost:8080/",
     "height": 193
    },
    "colab_type": "code",
    "id": "NBzra86HxzAa",
    "outputId": "9e7786a4-b964-431e-e2f6-42e241088961"
   },
   "outputs": [
    {
     "output_type": "execute_result",
     "data": {
      "text/plain": [
       "[('MEXICANOS', 1),\n",
       " ('NO', 1),\n",
       " ('DEJARAN', 1),\n",
       " ('BEBER', 1),\n",
       " ('REFRESCOS', 1),\n",
       " ('PESE', 1),\n",
       " ('AUMENTO', 1),\n",
       " ('HABRA', 1),\n",
       " ('PROXIMO', 1),\n",
       " ('ANO', 1)]"
      ]
     },
     "metadata": {},
     "execution_count": 106
    }
   ],
   "source": [
    "rdd_cont.take(10)"
   ]
  },
  {
   "cell_type": "code",
   "execution_count": 107,
   "metadata": {
    "colab": {},
    "colab_type": "code",
    "id": "phlVEsVong_D"
   },
   "outputs": [],
   "source": [
    "#Se guarda un archivo con las palabras separadas. \n",
    "rdd_cont.coalesce(1).saveAsTextFile('../resultados/100_com/palabras_diferentes')"
   ]
  },
  {
   "cell_type": "code",
   "execution_count": 108,
   "metadata": {
    "colab": {
     "base_uri": "https://localhost:8080/",
     "height": 34
    },
    "colab_type": "code",
    "id": "Z5EMOWJXyB9K",
    "outputId": "0740d823-d72e-4432-af84-ada4ebbbbbdf"
   },
   "outputs": [
    {
     "output_type": "execute_result",
     "data": {
      "text/plain": [
       "737"
      ]
     },
     "metadata": {},
     "execution_count": 108
    }
   ],
   "source": [
    "rdd_cont.count()"
   ]
  },
  {
   "cell_type": "code",
   "execution_count": 109,
   "metadata": {
    "colab": {},
    "colab_type": "code",
    "id": "it1apHJnx6Km"
   },
   "outputs": [],
   "source": [
    "#Se suma cada palabra que aparece y se agrupan.\n",
    "rdd_agrupadas = rdd_cont.reduceByKey(lambda a, b: a + b)"
   ]
  },
  {
   "cell_type": "code",
   "execution_count": 110,
   "metadata": {
    "colab": {
     "base_uri": "https://localhost:8080/",
     "height": 281
    },
    "colab_type": "code",
    "id": "ckBUo2cKx7z-",
    "outputId": "d61252c5-3a9e-40cd-afb1-0242226da81c"
   },
   "outputs": [
    {
     "output_type": "execute_result",
     "data": {
      "text/plain": [
       "[('MEXICANOS', 2),\n",
       " ('NO', 29),\n",
       " ('BEBER', 1),\n",
       " ('REFRESCOS', 1),\n",
       " ('AUMENTO', 2),\n",
       " ('HABRA', 3),\n",
       " ('SI', 1),\n",
       " ('ESTAN', 2),\n",
       " ('GUSTOS', 1),\n",
       " ('ESTUDIO', 1),\n",
       " ('DE', 2),\n",
       " ('RODRIGUEZ', 1),\n",
       " ('SALUD', 5),\n",
       " ('LLAMADO', 1),\n",
       " ('MOHAR', 1)]"
      ]
     },
     "metadata": {},
     "execution_count": 110
    }
   ],
   "source": [
    "rdd_agrupadas.take(15)"
   ]
  },
  {
   "cell_type": "code",
   "execution_count": 111,
   "metadata": {
    "colab": {
     "base_uri": "https://localhost:8080/",
     "height": 34
    },
    "colab_type": "code",
    "id": "tDn6IWJHvP9q",
    "outputId": "26f80695-3522-4587-c8f6-204338a6bb91"
   },
   "outputs": [
    {
     "output_type": "execute_result",
     "data": {
      "text/plain": [
       "533"
      ]
     },
     "metadata": {},
     "execution_count": 111
    }
   ],
   "source": [
    "#Total de Palabras diferentes.\n",
    "rdd_agrupadas.count()"
   ]
  },
  {
   "cell_type": "code",
   "execution_count": 112,
   "metadata": {
    "colab": {},
    "colab_type": "code",
    "id": "fguIyJX4ycwF"
   },
   "outputs": [],
   "source": [
    "#Se ordenan las palabras según las veces que aparecen de mayor a menor. \n",
    "rdd_ordenadas = rdd_agrupadas.sortBy(lambda s:s[1], False)"
   ]
  },
  {
   "cell_type": "code",
   "execution_count": 113,
   "metadata": {
    "colab": {
     "base_uri": "https://localhost:8080/",
     "height": 193
    },
    "colab_type": "code",
    "id": "ypKak6G_yoxm",
    "outputId": "110ada42-ddf7-4791-8a5e-0d1d6428ad51"
   },
   "outputs": [
    {
     "output_type": "execute_result",
     "data": {
      "text/plain": [
       "[('NO', 29),\n",
       " ('ESCRIBE', 17),\n",
       " ('PRESIDENTE', 12),\n",
       " ('PARA', 10),\n",
       " ('ANDRES', 9),\n",
       " ('YA', 7),\n",
       " ('SUS', 6),\n",
       " ('SALUD', 5),\n",
       " ('POR', 5),\n",
       " ('FUE', 5)]"
      ]
     },
     "metadata": {},
     "execution_count": 113
    }
   ],
   "source": [
    "rdd_ordenadas.take(10)"
   ]
  },
  {
   "cell_type": "code",
   "execution_count": 120,
   "metadata": {
    "colab": {
     "base_uri": "https://localhost:8080/",
     "height": 34
    },
    "colab_type": "code",
    "id": "m-9EkVHSytvc",
    "outputId": "292f9901-2c60-4844-f2e3-e9c8cab5a417"
   },
   "outputs": [
    {
     "output_type": "execute_result",
     "data": {
      "text/plain": [
       "533"
      ]
     },
     "metadata": {},
     "execution_count": 120
    }
   ],
   "source": [
    "#Numero total de palabras que hay en el archivo\n",
    "rdd_ordenadas.count()"
   ]
  },
  {
   "cell_type": "code",
   "execution_count": 116,
   "metadata": {
    "colab": {},
    "colab_type": "code",
    "id": "Yw25Qq3ceKah"
   },
   "outputs": [],
   "source": [
    "rdd_ordenadas.coalesce(1).saveAsTextFile('../resultados/100_com/no_palabras')"
   ]
  },
  {
   "cell_type": "code",
   "execution_count": 121,
   "metadata": {},
   "outputs": [],
   "source": [
    "s = rdd_ordenadas.map(lambda x: x[0])"
   ]
  },
  {
   "cell_type": "code",
   "execution_count": 122,
   "metadata": {
    "colab": {
     "base_uri": "https://localhost:8080/",
     "height": 34
    },
    "colab_type": "code",
    "id": "ZoGSNQSRds8-",
    "outputId": "d4ca127a-225d-4259-e754-5403ddd5446b"
   },
   "outputs": [
    {
     "output_type": "execute_result",
     "data": {
      "text/plain": [
       "['NO', 'ESCRIBE', 'PRESIDENTE', 'PARA', 'ANDRES']"
      ]
     },
     "metadata": {},
     "execution_count": 122
    }
   ],
   "source": [
    "#Éste es el RDD que contiene solamente las palabras, ya órdenadas por cantidad de repetición.\n",
    "s.take(5)"
   ]
  },
  {
   "cell_type": "code",
   "execution_count": 123,
   "metadata": {
    "colab": {},
    "colab_type": "code",
    "id": "m5sZVUIobdhw"
   },
   "outputs": [],
   "source": [
    "#Éste nuevo RDD sólo agrega el índice de las palabras pero, dicho índice, comienza en 0.\n",
    "rdd_indice = s.zipWithIndex()"
   ]
  },
  {
   "cell_type": "code",
   "execution_count": 124,
   "metadata": {
    "colab": {
     "base_uri": "https://localhost:8080/",
     "height": 193
    },
    "colab_type": "code",
    "id": "v23BAFdBZ7iZ",
    "outputId": "a97c2c92-a6e4-404b-920d-d4cec81a7ecc"
   },
   "outputs": [
    {
     "output_type": "execute_result",
     "data": {
      "text/plain": [
       "[('NO', 0),\n",
       " ('ESCRIBE', 1),\n",
       " ('PRESIDENTE', 2),\n",
       " ('PARA', 3),\n",
       " ('ANDRES', 4),\n",
       " ('YA', 5),\n",
       " ('SUS', 6),\n",
       " ('SALUD', 7),\n",
       " ('POR', 8),\n",
       " ('FUE', 9)]"
      ]
     },
     "metadata": {},
     "execution_count": 124
    }
   ],
   "source": [
    "rdd_indice.take(10)"
   ]
  },
  {
   "cell_type": "code",
   "execution_count": 126,
   "metadata": {
    "colab": {},
    "colab_type": "code",
    "id": "hnTAQAQPqO0b"
   },
   "outputs": [],
   "source": [
    "#Nuevo RDD con la palabra y el índice comenzando en 1.\n",
    "rdd_palabras = rdd_indice.map(lambda x: (x[0], x[1] + 1))"
   ]
  },
  {
   "cell_type": "code",
   "execution_count": 127,
   "metadata": {
    "colab": {
     "base_uri": "https://localhost:8080/",
     "height": 193
    },
    "colab_type": "code",
    "id": "MXY21WIxsGWT",
    "outputId": "f41b762b-7e2e-4cdf-a989-f975cf7217be"
   },
   "outputs": [
    {
     "output_type": "execute_result",
     "data": {
      "text/plain": [
       "[('NO', 1),\n",
       " ('ESCRIBE', 2),\n",
       " ('PRESIDENTE', 3),\n",
       " ('PARA', 4),\n",
       " ('ANDRES', 5),\n",
       " ('YA', 6),\n",
       " ('SUS', 7),\n",
       " ('SALUD', 8),\n",
       " ('POR', 9),\n",
       " ('FUE', 10)]"
      ]
     },
     "metadata": {},
     "execution_count": 127
    }
   ],
   "source": [
    "rdd_palabras.take(10)"
   ]
  },
  {
   "cell_type": "code",
   "execution_count": 129,
   "metadata": {
    "colab": {},
    "colab_type": "code",
    "id": "CfVkyudxiP7D"
   },
   "outputs": [],
   "source": [
    "rdd_palabras.coalesce(1).saveAsTextFile('../resultados/100_com/indice_100')"
   ]
  }
 ],
 "metadata": {
  "accelerator": "GPU",
  "colab": {
   "collapsed_sections": [],
   "name": "Comentarios índice.ipynb",
   "provenance": [],
   "toc_visible": true
  },
  "kernelspec": {
   "display_name": "Python 3.8.3 64-bit ('base': conda)",
   "language": "python",
   "name": "python38364bitbaseconda5908377d4a7e4c4ea816df0f02492ade"
  },
  "language_info": {
   "codemirror_mode": {
    "name": "ipython",
    "version": 3
   },
   "file_extension": ".py",
   "mimetype": "text/x-python",
   "name": "python",
   "nbconvert_exporter": "python",
   "pygments_lexer": "ipython3",
   "version": "3.8.3-final"
  }
 },
 "nbformat": 4,
 "nbformat_minor": 1
}