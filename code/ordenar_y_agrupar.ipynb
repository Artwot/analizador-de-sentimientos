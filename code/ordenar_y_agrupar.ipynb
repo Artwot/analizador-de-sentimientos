{
 "metadata": {
  "language_info": {
   "codemirror_mode": {
    "name": "ipython",
    "version": 3
   },
   "file_extension": ".py",
   "mimetype": "text/x-python",
   "name": "python",
   "nbconvert_exporter": "python",
   "pygments_lexer": "ipython3",
   "version": "3.8.3-final"
  },
  "orig_nbformat": 2,
  "kernelspec": {
   "name": "python38364bitbaseconda5908377d4a7e4c4ea816df0f02492ade",
   "display_name": "Python 3.8.3 64-bit ('base': conda)"
  }
 },
 "nbformat": 4,
 "nbformat_minor": 2,
 "cells": [
  {
   "cell_type": "markdown",
   "metadata": {},
   "source": [
    "**Importar librerías necesarias**"
   ]
  },
  {
   "cell_type": "code",
   "execution_count": 1,
   "metadata": {},
   "outputs": [],
   "source": [
    "import os\n",
    "os.environ[\"JAVA_HOME\"] = \"/usr/lib/jvm/java-11-openjdk-amd64\"\n",
    "os.environ[\"SPARK_HOME\"] = \"/opt/spark-3.0.0-bin-hadoop2.7\""
   ]
  },
  {
   "cell_type": "code",
   "execution_count": 2,
   "metadata": {},
   "outputs": [],
   "source": [
    "import findspark\n",
    "findspark.init()"
   ]
  },
  {
   "cell_type": "code",
   "execution_count": 3,
   "metadata": {},
   "outputs": [],
   "source": [
    "from pyspark.sql import SparkSession\n",
    "spark=SparkSession.builder.master(\"local[*]\").getOrCreate()\n",
    "sc=spark.sparkContext\n",
    "\n",
    "import numpy as np\n",
    "np.set_printoptions(threshold=sys.maxsize)"
   ]
  },
  {
   "cell_type": "markdown",
   "metadata": {},
   "source": [
    "**Segmento donde se cambian las palabras del comentario por el índice: (También ordena y agrupa)**"
   ]
  },
  {
   "cell_type": "code",
   "execution_count": 4,
   "metadata": {},
   "outputs": [],
   "source": [
    "#Arreglo que contiene las palabras del diccionario.\n",
    "diccionario = (\n",
    "    np\n",
    "    .loadtxt('../resultados/100_com/indice_100/part-00000', \n",
    "    delimiter= ',', \n",
    "    dtype=str)\n",
    "    )"
   ]
  },
  {
   "cell_type": "code",
   "execution_count": 7,
   "metadata": {
    "tags": []
   },
   "outputs": [],
   "source": [
    "#RDD con los comentarios de la BD.\n",
    "#comentarios = np.loadtxt('/home/jsarabia/Documents/IA/analisis_sentimientos/Base/BD_100.csv', delimiter= ',', dtype=str)\n",
    "comentarios = (\n",
    "    sc.textFile('../Base/BD_100.csv')\n",
    "    .map(lambda s: s.split(','))\n",
    "    .map(lambda col: col[0])\n",
    "    ).zipWithIndex().filter(lambda col: col[1] > 0).map(lambda col: col[0])\n",
    "#comentarios.cache()"
   ]
  },
  {
   "cell_type": "code",
   "execution_count": 8,
   "metadata": {},
   "outputs": [
    {
     "output_type": "execute_result",
     "data": {
      "text/plain": [
       "['MEXICANOS NO DEJARAN BEBER REFRESCOS PESE AUMENTO HABRA PROXIMO ANO PERO SI ESTAN CAMBIANDO SUS GUSTOS OPCIONES LIGHT SEGUN ESTUDIO DE',\n",
       " 'SEMAFORO ALERTA ENCUENTRA EN',\n",
       " 'RUTH RODRIGUEZ ESCRIBE CISMA SALUD LLAMADO MOHAR',\n",
       " 'MARTIN ESPINOSA ESCRIBE FUERZA ESTADOS',\n",
       " 'REPORTAN DESAPARICION MAESTRO UAM IZTAPALAPA AYUDANOS COMPARTIR',\n",
       " 'TERMINA TU DIA BIEN INFORMADO POR',\n",
       " 'YOUTUBER ENCONTRO NUEVAMENTE AMOR I',\n",
       " 'A DIEZ MESES INICIO GOBIERNO PRESIDENTE AFIRMO VAMOS BIEN']"
      ]
     },
     "metadata": {},
     "execution_count": 8
    }
   ],
   "source": [
    "comentarios.take(8)"
   ]
  },
  {
   "cell_type": "code",
   "execution_count": 9,
   "metadata": {},
   "outputs": [],
   "source": [
    "def agruparElementos(lista):\n",
    "    agrupados = []\n",
    "    cont = 1\n",
    "    for i in range(len(lista)):\n",
    "        if(i < len(lista) - 1):\n",
    "            if(lista[i] == lista[i + 1]):\n",
    "                cont += 1\n",
    "            else:\n",
    "                agrupados.append([lista[i], cont])\n",
    "                cont = 1\n",
    "        else:\n",
    "            agrupados.append([lista[i], cont])\n",
    "    arr_ag = np.array(agrupados)\n",
    "    return arr_ag"
   ]
  },
  {
   "cell_type": "code",
   "execution_count": 10,
   "metadata": {},
   "outputs": [],
   "source": [
    "def llenarArray(lista):\n",
    "    arr = []\n",
    "    agrupados = agruparElementos(lista)\n",
    "    for i in range(1, len(diccionario) + 1):\n",
    "        if(np.where(agrupados[:, 0] == [i])[0] != None):\n",
    "            indice = np.where(agrupados[:, 0] == [i])[0]\n",
    "            repeticiones = agrupados[indice, 1]\n",
    "            arr.append(str(i) + ':' +str(repeticiones))\n",
    "        else:\n",
    "            arr.append(str(i) + ':0')  \n",
    "    array_numpy = np.array(arr)\n",
    "    return array_numpy"
   ]
  },
  {
   "cell_type": "code",
   "execution_count": 11,
   "metadata": {},
   "outputs": [],
   "source": [
    "def sustituir2(comentario):\n",
    "    #Las palabras por comentario serán referidas en el arreglo palabras.\n",
    "    palabras = comentario.split(' ')\n",
    "    lista = []\n",
    "    for palabra in range(len(palabras)):\n",
    "        indice = np.where(diccionario == palabras[palabra])[0] + 1\n",
    "        lista.append(indice)\n",
    "    lista.sort()\n",
    "    #El método llenarArray() retorna un arreglo de Numpy.\n",
    "    arreglo = llenarArray(lista) \n",
    "    return arreglo"
   ]
  },
  {
   "cell_type": "code",
   "execution_count": 12,
   "metadata": {
    "tags": []
   },
   "outputs": [],
   "source": [
    "cad2 = 'MEXICANOS NO DEJARAN CONTENE SELECCIONAIS DE NO BEBER'\n",
    "arr_prueba = sustituir2(cad2)\n",
    "#print(arr_prueba)"
   ]
  },
  {
   "cell_type": "code",
   "execution_count": 15,
   "metadata": {},
   "outputs": [],
   "source": [
    "rdd_agrupados = comentarios.map(lambda s: sustituir2(s))\n",
    "#rdd_agrupados.take(1)"
   ]
  },
  {
   "cell_type": "code",
   "execution_count": 18,
   "metadata": {},
   "outputs": [],
   "source": [
    "arr_final = np.array(rdd_agrupados.collect())"
   ]
  },
  {
   "cell_type": "code",
   "execution_count": 35,
   "metadata": {},
   "outputs": [],
   "source": [
    "def crearIndice():    \n",
    "    lista = []\n",
    "    for i in range(100):\n",
    "        lista.append(i)\n",
    "    rdd_indice = sc.parallelize(lista)\n",
    "    return rdd_indice\n"
   ]
  },
  {
   "cell_type": "code",
   "execution_count": 22,
   "metadata": {
    "tags": []
   },
   "outputs": [],
   "source": [
    "np.savetxt(\"../resultados/100_com/cluster.txt\", arr_final, fmt='%s')"
   ]
  },
  {
   "cell_type": "code",
   "execution_count": 14,
   "metadata": {},
   "outputs": [],
   "source": [
    "rdd_agrupados.coalesce(1).saveAsTextFile('/home/jsarabia/Documents/IA/analisis_sentimientos/resultados/palabras_etiquetadas_100')"
   ]
  },
  {
   "cell_type": "markdown",
   "metadata": {},
   "source": [
    "# Segmento de Prueba"
   ]
  }
 ]
}